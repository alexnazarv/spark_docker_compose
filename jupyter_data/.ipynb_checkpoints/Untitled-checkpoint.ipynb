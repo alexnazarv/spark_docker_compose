{
 "cells": [
  {
   "cell_type": "code",
   "execution_count": 1,
   "id": "beb5c09b-4a26-4b21-bc5b-1a7a030d5f74",
   "metadata": {},
   "outputs": [],
   "source": [
    "import pyspark\n",
    "from pyspark.sql import SparkSession\n",
    "from pyspark.sql import functions as F\n",
    "\n",
    "\n",
    "spark = SparkSession.builder \\\n",
    "    .master(\"spark://spark-master:7077\") \\\n",
    "    .config(\"spark.executor.instances\", 2) \\\n",
    "    .config(\"spark.executor.memory\", \"1g\") \\\n",
    "    .config(\"spark.executor.cores\", \"1\") \\\n",
    "    .config(\"spark.driver.cores\", \"1\") \\\n",
    "    .config(\"spark.driver.memory\", \"6g\") \\\n",
    "    .config(\"spark.driver.maxResultSize\", \"3g\") \\\n",
    "    .config(\"spark.deploy.defaultCores\", 3) \\\n",
    "    .config(\"spark.dynamicAllocation.enabled\", True) \\\n",
    "    .appName(\"MySparkApp\") \\\n",
    "    .getOrCreate()"
   ]
  },
  {
   "cell_type": "code",
   "execution_count": 2,
   "id": "24d28027-b6ff-4e4f-b695-da99b50144ae",
   "metadata": {},
   "outputs": [
    {
     "name": "stdout",
     "output_type": "stream",
     "text": [
      "CPU times: user 237 ms, sys: 69.2 ms, total: 306 ms\n",
      "Wall time: 9.78 s\n"
     ]
    },
    {
     "data": {
      "text/plain": [
       "[Row(name='Alice', age=1)]"
      ]
     },
     "execution_count": 2,
     "metadata": {},
     "output_type": "execute_result"
    }
   ],
   "source": [
    "%%time\n",
    "l = [('Alice', 1)]\n",
    "\n",
    "spark.createDataFrame(l, ['name', 'age']).collect()"
   ]
  },
  {
   "cell_type": "code",
   "execution_count": 13,
   "id": "faf2d583-05d8-4cde-9d0f-779b0ceaf602",
   "metadata": {},
   "outputs": [
    {
     "name": "stdout",
     "output_type": "stream",
     "text": [
      "+------------------------------------+----------------+\n",
      "|json_field                          |struct_field    |\n",
      "+------------------------------------+----------------+\n",
      "|{\"key1\": \"value1\", \"key2\": \"value2\"}|{value1, value2}|\n",
      "+------------------------------------+----------------+\n",
      "\n"
     ]
    }
   ],
   "source": [
    "%%time\n",
    "data = [(\"{\\\"key1\\\": \\\"value1\\\", \\\"key2\\\": \\\"value2\\\"}\",)]\n",
    "df = spark.createDataFrame(data, [\"json_field\"])\n",
    "\n",
    "# Define the schema for the JSON struct\n",
    "json_schema = \"struct<key1: string, key2: string>\"\n",
    "\n",
    "# Convert JSON string to struct\n",
    "df = df.withColumn(\"struct_field\", F.from_json(df[\"json_field\"], json_schema))\n",
    "\n",
    "# Show the DataFrame\n",
    "df.show(truncate=False)"
   ]
  },
  {
   "cell_type": "code",
   "execution_count": null,
   "id": "f7f52868-0e94-4ece-afee-f4a014ee06a9",
   "metadata": {},
   "outputs": [],
   "source": []
  },
  {
   "cell_type": "code",
   "execution_count": 14,
   "id": "6baec039-7cdd-4b12-a4b5-3e60397129c6",
   "metadata": {},
   "outputs": [],
   "source": [
    "# spark.stop()"
   ]
  }
 ],
 "metadata": {
  "kernelspec": {
   "display_name": "Python 3 (ipykernel)",
   "language": "python",
   "name": "python3"
  },
  "language_info": {
   "codemirror_mode": {
    "name": "ipython",
    "version": 3
   },
   "file_extension": ".py",
   "mimetype": "text/x-python",
   "name": "python",
   "nbconvert_exporter": "python",
   "pygments_lexer": "ipython3",
   "version": "3.11.4"
  }
 },
 "nbformat": 4,
 "nbformat_minor": 5
}
